{
 "cells": [
  {
   "cell_type": "code",
   "execution_count": null,
   "id": "b3c46647-69e4-4875-803a-b97755f3238a",
   "metadata": {},
   "outputs": [],
   "source": [
    "def convert_to_unicode_escape_sequence(string):\n",
    "    unicode_sequence = \"\"\n",
    "    for char in string:\n",
    "        unicode_sequence += \"\\\\u{:04x}\".format(ord(char))\n",
    "    return unicode_sequence\n",
    "\n",
    "strings = [\n",
    "    \"chapadÃ£o de ferro (cerrado mineiro)\",\n",
    "    \"nariÃ±o\",\n",
    "    \"el paraÃ­so\",\n",
    "    \"guinope el paraÃ­so\",\n",
    "    \"chilÃ³n\",\n",
    "    \"cuarenteÃ±o\",\n",
    "    \"fortÃ­n de las flores\",\n",
    "    \"sacÃºn palma, municipio de chilÃ³n, chiapas\",\n",
    "    \"dongshan dist., tainan city è‡ºå—å¸‚æ±å±±å€\",\n",
    "    \"taichung xinshe å°ä¸­å¸‚æ–°ç¤¾å€\",\n",
    "    \"åœ‹å§“é„‰ guoshing township\",\n",
    "    \"nanxi dist., tainan city è‡ºå—å¸‚æ¥ è¥¿å€\",\n",
    "    \"leye, alishan township, chiayi county å˜‰ç¾©é˜¿é‡Œå±±æ¨‚é‡Žæ‘\",\n",
    "    \"å°ç£\",\n",
    "    \"å°ä¸­å’Œå¹³å€\",\n",
    "    \"å°å—å¸‚æ±å±±å€ (dongshan dist., tainan city)\",\n",
    "    \"å—æŠ•åœ‹å§“\",\n",
    "    \"chiayi alishan å˜‰ç¾©ç¸£é˜¿é‡Œå±±é„‰\",\n",
    "    \"å˜‰ç¾©é˜¿é‡Œå±±\",\n",
    "    \"å°æ±å¤ªéº»é‡Œ\",\n",
    "    \"å°å—å¸‚æ±å±±å€( dongshan dist., tainan city)\",\n",
    "    \"changhua baguashan å½°åŒ–å¸‚å…«å¦å±±\",\n",
    "    \"yunlin é›²æž—ç¸£çŸ³å£\",\n",
    "    \"å¤å‘é„‰è·åŒ…æ‘å°–å±±å‘60è™Ÿ\",\n",
    "    \"èæ —ä¸ç£\",\n",
    "    \"dongshan dist., tainan city å°åå¸æ±å±±å€\",\n",
    "    \"å°ä¸­æ–°ç¤¾\",\n",
    "    \"taichung taiping å°ä¸­å¸å¤ªå¹³å€\",\n",
    "    \"new taipei zhonghe æ–°åå¸ä¸­åå€\",\n",
    "    \"chiayi fanluåç¾©ç¸£çªè·¯é‰\",\n",
    "    \"èæ æ³°å®\",\n",
    "    \"yunlin gukeng he bao é²æç¸£å¤åé‰è·èæ\",\n",
    "    \"taiwu township , pingtung county å±æ±ç¸£æ³°æ­¦é‰\",\n",
    "    \"baihe dist., tainan city èºåå¸ç½æ²³å\"\n",
    "]\n",
    "\n",
    "unicode_strings = [convert_to_unicode_escape_sequence(string) for string in strings]\n",
    "\n",
    "for string, unicode_string in zip(strings, unicode_strings):\n",
    "    coffee_df_new[\"Region\"] = coffee_df_new[\"Region\"].replace(string, unicode_string)\n"
   ]
  }
 ],
 "metadata": {
  "kernelspec": {
   "display_name": "Python 3 (ipykernel)",
   "language": "python",
   "name": "python3"
  },
  "language_info": {
   "codemirror_mode": {
    "name": "ipython",
    "version": 3
   },
   "file_extension": ".py",
   "mimetype": "text/x-python",
   "name": "python",
   "nbconvert_exporter": "python",
   "pygments_lexer": "ipython3",
   "version": "3.10.11"
  }
 },
 "nbformat": 4,
 "nbformat_minor": 5
}
