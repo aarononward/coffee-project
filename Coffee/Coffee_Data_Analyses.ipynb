{
 "cells": [
  {
   "cell_type": "code",
   "execution_count": null,
   "id": "8763554a-92ab-45e8-9ed1-22daec028dac",
   "metadata": {},
   "outputs": [],
   "source": [
    "#SNEHA -- START -- IMPORT CLEAN DATA FROM RONDA'S EXPORT"
   ]
  },
  {
   "cell_type": "code",
   "execution_count": 78,
   "id": "1f5cb746-a72c-489c-8a1d-f53e4825db09",
   "metadata": {},
   "outputs": [],
   "source": [
    "#Import Libraries\n",
    "import numpy as np\n",
    "import pandas as pd\n",
    "import hvplot.pandas\n",
    "import matplotlib.pyplot as plt\n",
    "from sklearn import linear_model as lm\n",
    "import seaborn as sns\n",
    "import numpy as np\n",
    "import scipy.stats as stats\n",
    "from pathlib import Path\n",
    "import requests\n",
    "import json\n",
    "from api_key import api_key\n",
    "import time\n",
    "from pprint import pprint"
   ]
  },
  {
   "cell_type": "code",
   "execution_count": 79,
   "id": "d96146a7-96f7-4b84-ad1f-5a0c55684a4b",
   "metadata": {},
   "outputs": [
    {
     "data": {
      "text/plain": [
       "Index(['Unnamed: 0', 'Species', 'Owner', 'Country_of_Origin', 'Farm.Name',\n",
       "       'Altitude', 'Region', 'Number.of.Bags', 'Bag.Weight', 'Harvest.Year',\n",
       "       'Grading.Date', 'Variety', 'Processing_Method', 'Aroma', 'Flavor',\n",
       "       'Aftertaste', 'Acidity', 'Body', 'Balance', 'Uniformity', 'Clean.Cup',\n",
       "       'Sweetness', 'Cupper.Points', 'CoffeeScore', 'Moisture',\n",
       "       'Category.One.Defects', 'Quakers', 'Color', 'Category.Two.Defects',\n",
       "       'unit_of_measurement', 'altitude_low_meters', 'altitude_high_meters',\n",
       "       'altitude_mean_meters'],\n",
       "      dtype='object')"
      ]
     },
     "execution_count": 79,
     "metadata": {},
     "output_type": "execute_result"
    }
   ],
   "source": [
    "# CLEANED DATA IMPORT FROM RONDA\"S EXPOPRTED CSV\n",
    "csv_path = Path('Coffee_exp.csv')\n",
    "coffee_df = pd.read_csv(csv_path, encoding=\"utf8\")\n",
    "coffee_df.columns"
   ]
  },
  {
   "cell_type": "code",
   "execution_count": 80,
   "id": "2a26d09f-3922-46a5-aad6-7a052d9dda65",
   "metadata": {},
   "outputs": [],
   "source": [
    "coffee_df_new = coffee_df.rename(columns={'Total.Cup.Points': 'CoffeeScore',\n",
    "                                            'Country.of.Origin': 'Country_of_Origin',\n",
    "                                         'Processing.Method': 'Processing_Method'})"
   ]
  },
  {
   "cell_type": "code",
   "execution_count": null,
   "id": "05f069b4-9d0f-4203-a014-e64f1c99be55",
   "metadata": {},
   "outputs": [],
   "source": [
    "#SNEHA -- END -- IMPORT CLEAN DATA FROM RONDA\"S EXPORT"
   ]
  },
  {
   "cell_type": "code",
   "execution_count": null,
   "id": "08aabaf2-8852-406b-ba38-57ac8ae3752d",
   "metadata": {},
   "outputs": [],
   "source": [
    "#TAYLOR -- START -- QUESTION 1 : The distribution scores across metrics -Compare Arabica and Robusta (Maybe stacked bar?)"
   ]
  },
  {
   "cell_type": "code",
   "execution_count": null,
   "id": "70b4ad64-8966-4832-a1bb-ecd8ce021940",
   "metadata": {},
   "outputs": [],
   "source": []
  },
  {
   "cell_type": "code",
   "execution_count": null,
   "id": "d58254b5-0d8c-46dc-9591-7dc25b519477",
   "metadata": {},
   "outputs": [],
   "source": [
    "#TAYLOR -- END -- QUESTION 1 : The distribution scores across metrics -Compare Arabica and Robusta (Maybe stacked bar?)"
   ]
  },
  {
   "cell_type": "code",
   "execution_count": null,
   "id": "b8d5d1b7-3bd8-4202-ba7c-fcabff74e4db",
   "metadata": {},
   "outputs": [],
   "source": [
    "#SNEHA -- START -- QUESTION 2 : This team likes Columbian coffee: H0: Distribution of \"Good\" Scores across metrics is not significant in Columbia vs the world"
   ]
  },
  {
   "cell_type": "code",
   "execution_count": 81,
   "id": "df8eb8ae-836a-42b2-b885-93d2d5365ec1",
   "metadata": {},
   "outputs": [
    {
     "name": "stderr",
     "output_type": "stream",
     "text": [
      "/var/folders/kl/d4qmnbgd10q401rmyb0lldk40000gn/T/ipykernel_69491/1552380861.py:4: FutureWarning: Passing a set as an indexer is deprecated and will raise in a future version. Use a list instead.\n",
      "  percentiles =DataFrame[{m}].quantile([(1/3),(2/3)])\n",
      "/var/folders/kl/d4qmnbgd10q401rmyb0lldk40000gn/T/ipykernel_69491/1552380861.py:6: FutureWarning: Passing a set as an indexer is deprecated and will raise in a future version. Use a list instead.\n",
      "  conditions = [(DataFrame[{m}] <= (1/3)),(DataFrame[{m}] > (1/3)) & (DataFrame[{m}] <= (2/3)),(DataFrame[{m}] > (2/3))]\n",
      "/var/folders/kl/d4qmnbgd10q401rmyb0lldk40000gn/T/ipykernel_69491/1552380861.py:6: FutureWarning: Passing a set as an indexer is deprecated and will raise in a future version. Use a list instead.\n",
      "  conditions = [(DataFrame[{m}] <= (1/3)),(DataFrame[{m}] > (1/3)) & (DataFrame[{m}] <= (2/3)),(DataFrame[{m}] > (2/3))]\n",
      "/var/folders/kl/d4qmnbgd10q401rmyb0lldk40000gn/T/ipykernel_69491/1552380861.py:6: FutureWarning: Passing a set as an indexer is deprecated and will raise in a future version. Use a list instead.\n",
      "  conditions = [(DataFrame[{m}] <= (1/3)),(DataFrame[{m}] > (1/3)) & (DataFrame[{m}] <= (2/3)),(DataFrame[{m}] > (2/3))]\n",
      "/var/folders/kl/d4qmnbgd10q401rmyb0lldk40000gn/T/ipykernel_69491/1552380861.py:6: FutureWarning: Passing a set as an indexer is deprecated and will raise in a future version. Use a list instead.\n",
      "  conditions = [(DataFrame[{m}] <= (1/3)),(DataFrame[{m}] > (1/3)) & (DataFrame[{m}] <= (2/3)),(DataFrame[{m}] > (2/3))]\n",
      "/var/folders/kl/d4qmnbgd10q401rmyb0lldk40000gn/T/ipykernel_69491/1552380861.py:4: FutureWarning: Passing a set as an indexer is deprecated and will raise in a future version. Use a list instead.\n",
      "  percentiles =DataFrame[{m}].quantile([(1/3),(2/3)])\n",
      "/var/folders/kl/d4qmnbgd10q401rmyb0lldk40000gn/T/ipykernel_69491/1552380861.py:6: FutureWarning: Passing a set as an indexer is deprecated and will raise in a future version. Use a list instead.\n",
      "  conditions = [(DataFrame[{m}] <= (1/3)),(DataFrame[{m}] > (1/3)) & (DataFrame[{m}] <= (2/3)),(DataFrame[{m}] > (2/3))]\n",
      "/var/folders/kl/d4qmnbgd10q401rmyb0lldk40000gn/T/ipykernel_69491/1552380861.py:6: FutureWarning: Passing a set as an indexer is deprecated and will raise in a future version. Use a list instead.\n",
      "  conditions = [(DataFrame[{m}] <= (1/3)),(DataFrame[{m}] > (1/3)) & (DataFrame[{m}] <= (2/3)),(DataFrame[{m}] > (2/3))]\n",
      "/var/folders/kl/d4qmnbgd10q401rmyb0lldk40000gn/T/ipykernel_69491/1552380861.py:6: FutureWarning: Passing a set as an indexer is deprecated and will raise in a future version. Use a list instead.\n",
      "  conditions = [(DataFrame[{m}] <= (1/3)),(DataFrame[{m}] > (1/3)) & (DataFrame[{m}] <= (2/3)),(DataFrame[{m}] > (2/3))]\n",
      "/var/folders/kl/d4qmnbgd10q401rmyb0lldk40000gn/T/ipykernel_69491/1552380861.py:6: FutureWarning: Passing a set as an indexer is deprecated and will raise in a future version. Use a list instead.\n",
      "  conditions = [(DataFrame[{m}] <= (1/3)),(DataFrame[{m}] > (1/3)) & (DataFrame[{m}] <= (2/3)),(DataFrame[{m}] > (2/3))]\n",
      "/var/folders/kl/d4qmnbgd10q401rmyb0lldk40000gn/T/ipykernel_69491/1552380861.py:4: FutureWarning: Passing a set as an indexer is deprecated and will raise in a future version. Use a list instead.\n",
      "  percentiles =DataFrame[{m}].quantile([(1/3),(2/3)])\n",
      "/var/folders/kl/d4qmnbgd10q401rmyb0lldk40000gn/T/ipykernel_69491/1552380861.py:6: FutureWarning: Passing a set as an indexer is deprecated and will raise in a future version. Use a list instead.\n",
      "  conditions = [(DataFrame[{m}] <= (1/3)),(DataFrame[{m}] > (1/3)) & (DataFrame[{m}] <= (2/3)),(DataFrame[{m}] > (2/3))]\n",
      "/var/folders/kl/d4qmnbgd10q401rmyb0lldk40000gn/T/ipykernel_69491/1552380861.py:6: FutureWarning: Passing a set as an indexer is deprecated and will raise in a future version. Use a list instead.\n",
      "  conditions = [(DataFrame[{m}] <= (1/3)),(DataFrame[{m}] > (1/3)) & (DataFrame[{m}] <= (2/3)),(DataFrame[{m}] > (2/3))]\n",
      "/var/folders/kl/d4qmnbgd10q401rmyb0lldk40000gn/T/ipykernel_69491/1552380861.py:6: FutureWarning: Passing a set as an indexer is deprecated and will raise in a future version. Use a list instead.\n",
      "  conditions = [(DataFrame[{m}] <= (1/3)),(DataFrame[{m}] > (1/3)) & (DataFrame[{m}] <= (2/3)),(DataFrame[{m}] > (2/3))]\n",
      "/var/folders/kl/d4qmnbgd10q401rmyb0lldk40000gn/T/ipykernel_69491/1552380861.py:6: FutureWarning: Passing a set as an indexer is deprecated and will raise in a future version. Use a list instead.\n",
      "  conditions = [(DataFrame[{m}] <= (1/3)),(DataFrame[{m}] > (1/3)) & (DataFrame[{m}] <= (2/3)),(DataFrame[{m}] > (2/3))]\n",
      "/var/folders/kl/d4qmnbgd10q401rmyb0lldk40000gn/T/ipykernel_69491/1552380861.py:4: FutureWarning: Passing a set as an indexer is deprecated and will raise in a future version. Use a list instead.\n",
      "  percentiles =DataFrame[{m}].quantile([(1/3),(2/3)])\n",
      "/var/folders/kl/d4qmnbgd10q401rmyb0lldk40000gn/T/ipykernel_69491/1552380861.py:6: FutureWarning: Passing a set as an indexer is deprecated and will raise in a future version. Use a list instead.\n",
      "  conditions = [(DataFrame[{m}] <= (1/3)),(DataFrame[{m}] > (1/3)) & (DataFrame[{m}] <= (2/3)),(DataFrame[{m}] > (2/3))]\n",
      "/var/folders/kl/d4qmnbgd10q401rmyb0lldk40000gn/T/ipykernel_69491/1552380861.py:6: FutureWarning: Passing a set as an indexer is deprecated and will raise in a future version. Use a list instead.\n",
      "  conditions = [(DataFrame[{m}] <= (1/3)),(DataFrame[{m}] > (1/3)) & (DataFrame[{m}] <= (2/3)),(DataFrame[{m}] > (2/3))]\n",
      "/var/folders/kl/d4qmnbgd10q401rmyb0lldk40000gn/T/ipykernel_69491/1552380861.py:6: FutureWarning: Passing a set as an indexer is deprecated and will raise in a future version. Use a list instead.\n",
      "  conditions = [(DataFrame[{m}] <= (1/3)),(DataFrame[{m}] > (1/3)) & (DataFrame[{m}] <= (2/3)),(DataFrame[{m}] > (2/3))]\n",
      "/var/folders/kl/d4qmnbgd10q401rmyb0lldk40000gn/T/ipykernel_69491/1552380861.py:6: FutureWarning: Passing a set as an indexer is deprecated and will raise in a future version. Use a list instead.\n",
      "  conditions = [(DataFrame[{m}] <= (1/3)),(DataFrame[{m}] > (1/3)) & (DataFrame[{m}] <= (2/3)),(DataFrame[{m}] > (2/3))]\n",
      "/var/folders/kl/d4qmnbgd10q401rmyb0lldk40000gn/T/ipykernel_69491/1552380861.py:4: FutureWarning: Passing a set as an indexer is deprecated and will raise in a future version. Use a list instead.\n",
      "  percentiles =DataFrame[{m}].quantile([(1/3),(2/3)])\n",
      "/var/folders/kl/d4qmnbgd10q401rmyb0lldk40000gn/T/ipykernel_69491/1552380861.py:6: FutureWarning: Passing a set as an indexer is deprecated and will raise in a future version. Use a list instead.\n",
      "  conditions = [(DataFrame[{m}] <= (1/3)),(DataFrame[{m}] > (1/3)) & (DataFrame[{m}] <= (2/3)),(DataFrame[{m}] > (2/3))]\n",
      "/var/folders/kl/d4qmnbgd10q401rmyb0lldk40000gn/T/ipykernel_69491/1552380861.py:6: FutureWarning: Passing a set as an indexer is deprecated and will raise in a future version. Use a list instead.\n",
      "  conditions = [(DataFrame[{m}] <= (1/3)),(DataFrame[{m}] > (1/3)) & (DataFrame[{m}] <= (2/3)),(DataFrame[{m}] > (2/3))]\n",
      "/var/folders/kl/d4qmnbgd10q401rmyb0lldk40000gn/T/ipykernel_69491/1552380861.py:6: FutureWarning: Passing a set as an indexer is deprecated and will raise in a future version. Use a list instead.\n",
      "  conditions = [(DataFrame[{m}] <= (1/3)),(DataFrame[{m}] > (1/3)) & (DataFrame[{m}] <= (2/3)),(DataFrame[{m}] > (2/3))]\n",
      "/var/folders/kl/d4qmnbgd10q401rmyb0lldk40000gn/T/ipykernel_69491/1552380861.py:6: FutureWarning: Passing a set as an indexer is deprecated and will raise in a future version. Use a list instead.\n",
      "  conditions = [(DataFrame[{m}] <= (1/3)),(DataFrame[{m}] > (1/3)) & (DataFrame[{m}] <= (2/3)),(DataFrame[{m}] > (2/3))]\n",
      "/var/folders/kl/d4qmnbgd10q401rmyb0lldk40000gn/T/ipykernel_69491/1552380861.py:4: FutureWarning: Passing a set as an indexer is deprecated and will raise in a future version. Use a list instead.\n",
      "  percentiles =DataFrame[{m}].quantile([(1/3),(2/3)])\n",
      "/var/folders/kl/d4qmnbgd10q401rmyb0lldk40000gn/T/ipykernel_69491/1552380861.py:6: FutureWarning: Passing a set as an indexer is deprecated and will raise in a future version. Use a list instead.\n",
      "  conditions = [(DataFrame[{m}] <= (1/3)),(DataFrame[{m}] > (1/3)) & (DataFrame[{m}] <= (2/3)),(DataFrame[{m}] > (2/3))]\n",
      "/var/folders/kl/d4qmnbgd10q401rmyb0lldk40000gn/T/ipykernel_69491/1552380861.py:6: FutureWarning: Passing a set as an indexer is deprecated and will raise in a future version. Use a list instead.\n",
      "  conditions = [(DataFrame[{m}] <= (1/3)),(DataFrame[{m}] > (1/3)) & (DataFrame[{m}] <= (2/3)),(DataFrame[{m}] > (2/3))]\n",
      "/var/folders/kl/d4qmnbgd10q401rmyb0lldk40000gn/T/ipykernel_69491/1552380861.py:6: FutureWarning: Passing a set as an indexer is deprecated and will raise in a future version. Use a list instead.\n",
      "  conditions = [(DataFrame[{m}] <= (1/3)),(DataFrame[{m}] > (1/3)) & (DataFrame[{m}] <= (2/3)),(DataFrame[{m}] > (2/3))]\n",
      "/var/folders/kl/d4qmnbgd10q401rmyb0lldk40000gn/T/ipykernel_69491/1552380861.py:6: FutureWarning: Passing a set as an indexer is deprecated and will raise in a future version. Use a list instead.\n",
      "  conditions = [(DataFrame[{m}] <= (1/3)),(DataFrame[{m}] > (1/3)) & (DataFrame[{m}] <= (2/3)),(DataFrame[{m}] > (2/3))]\n",
      "/var/folders/kl/d4qmnbgd10q401rmyb0lldk40000gn/T/ipykernel_69491/1552380861.py:4: FutureWarning: Passing a set as an indexer is deprecated and will raise in a future version. Use a list instead.\n",
      "  percentiles =DataFrame[{m}].quantile([(1/3),(2/3)])\n",
      "/var/folders/kl/d4qmnbgd10q401rmyb0lldk40000gn/T/ipykernel_69491/1552380861.py:6: FutureWarning: Passing a set as an indexer is deprecated and will raise in a future version. Use a list instead.\n",
      "  conditions = [(DataFrame[{m}] <= (1/3)),(DataFrame[{m}] > (1/3)) & (DataFrame[{m}] <= (2/3)),(DataFrame[{m}] > (2/3))]\n",
      "/var/folders/kl/d4qmnbgd10q401rmyb0lldk40000gn/T/ipykernel_69491/1552380861.py:6: FutureWarning: Passing a set as an indexer is deprecated and will raise in a future version. Use a list instead.\n",
      "  conditions = [(DataFrame[{m}] <= (1/3)),(DataFrame[{m}] > (1/3)) & (DataFrame[{m}] <= (2/3)),(DataFrame[{m}] > (2/3))]\n",
      "/var/folders/kl/d4qmnbgd10q401rmyb0lldk40000gn/T/ipykernel_69491/1552380861.py:6: FutureWarning: Passing a set as an indexer is deprecated and will raise in a future version. Use a list instead.\n",
      "  conditions = [(DataFrame[{m}] <= (1/3)),(DataFrame[{m}] > (1/3)) & (DataFrame[{m}] <= (2/3)),(DataFrame[{m}] > (2/3))]\n",
      "/var/folders/kl/d4qmnbgd10q401rmyb0lldk40000gn/T/ipykernel_69491/1552380861.py:6: FutureWarning: Passing a set as an indexer is deprecated and will raise in a future version. Use a list instead.\n",
      "  conditions = [(DataFrame[{m}] <= (1/3)),(DataFrame[{m}] > (1/3)) & (DataFrame[{m}] <= (2/3)),(DataFrame[{m}] > (2/3))]\n",
      "/var/folders/kl/d4qmnbgd10q401rmyb0lldk40000gn/T/ipykernel_69491/1552380861.py:4: FutureWarning: Passing a set as an indexer is deprecated and will raise in a future version. Use a list instead.\n",
      "  percentiles =DataFrame[{m}].quantile([(1/3),(2/3)])\n",
      "/var/folders/kl/d4qmnbgd10q401rmyb0lldk40000gn/T/ipykernel_69491/1552380861.py:6: FutureWarning: Passing a set as an indexer is deprecated and will raise in a future version. Use a list instead.\n",
      "  conditions = [(DataFrame[{m}] <= (1/3)),(DataFrame[{m}] > (1/3)) & (DataFrame[{m}] <= (2/3)),(DataFrame[{m}] > (2/3))]\n",
      "/var/folders/kl/d4qmnbgd10q401rmyb0lldk40000gn/T/ipykernel_69491/1552380861.py:6: FutureWarning: Passing a set as an indexer is deprecated and will raise in a future version. Use a list instead.\n",
      "  conditions = [(DataFrame[{m}] <= (1/3)),(DataFrame[{m}] > (1/3)) & (DataFrame[{m}] <= (2/3)),(DataFrame[{m}] > (2/3))]\n",
      "/var/folders/kl/d4qmnbgd10q401rmyb0lldk40000gn/T/ipykernel_69491/1552380861.py:6: FutureWarning: Passing a set as an indexer is deprecated and will raise in a future version. Use a list instead.\n",
      "  conditions = [(DataFrame[{m}] <= (1/3)),(DataFrame[{m}] > (1/3)) & (DataFrame[{m}] <= (2/3)),(DataFrame[{m}] > (2/3))]\n",
      "/var/folders/kl/d4qmnbgd10q401rmyb0lldk40000gn/T/ipykernel_69491/1552380861.py:6: FutureWarning: Passing a set as an indexer is deprecated and will raise in a future version. Use a list instead.\n",
      "  conditions = [(DataFrame[{m}] <= (1/3)),(DataFrame[{m}] > (1/3)) & (DataFrame[{m}] <= (2/3)),(DataFrame[{m}] > (2/3))]\n",
      "/var/folders/kl/d4qmnbgd10q401rmyb0lldk40000gn/T/ipykernel_69491/1552380861.py:4: FutureWarning: Passing a set as an indexer is deprecated and will raise in a future version. Use a list instead.\n",
      "  percentiles =DataFrame[{m}].quantile([(1/3),(2/3)])\n",
      "/var/folders/kl/d4qmnbgd10q401rmyb0lldk40000gn/T/ipykernel_69491/1552380861.py:6: FutureWarning: Passing a set as an indexer is deprecated and will raise in a future version. Use a list instead.\n",
      "  conditions = [(DataFrame[{m}] <= (1/3)),(DataFrame[{m}] > (1/3)) & (DataFrame[{m}] <= (2/3)),(DataFrame[{m}] > (2/3))]\n",
      "/var/folders/kl/d4qmnbgd10q401rmyb0lldk40000gn/T/ipykernel_69491/1552380861.py:6: FutureWarning: Passing a set as an indexer is deprecated and will raise in a future version. Use a list instead.\n",
      "  conditions = [(DataFrame[{m}] <= (1/3)),(DataFrame[{m}] > (1/3)) & (DataFrame[{m}] <= (2/3)),(DataFrame[{m}] > (2/3))]\n",
      "/var/folders/kl/d4qmnbgd10q401rmyb0lldk40000gn/T/ipykernel_69491/1552380861.py:6: FutureWarning: Passing a set as an indexer is deprecated and will raise in a future version. Use a list instead.\n",
      "  conditions = [(DataFrame[{m}] <= (1/3)),(DataFrame[{m}] > (1/3)) & (DataFrame[{m}] <= (2/3)),(DataFrame[{m}] > (2/3))]\n",
      "/var/folders/kl/d4qmnbgd10q401rmyb0lldk40000gn/T/ipykernel_69491/1552380861.py:6: FutureWarning: Passing a set as an indexer is deprecated and will raise in a future version. Use a list instead.\n",
      "  conditions = [(DataFrame[{m}] <= (1/3)),(DataFrame[{m}] > (1/3)) & (DataFrame[{m}] <= (2/3)),(DataFrame[{m}] > (2/3))]\n",
      "/var/folders/kl/d4qmnbgd10q401rmyb0lldk40000gn/T/ipykernel_69491/1552380861.py:4: FutureWarning: Passing a set as an indexer is deprecated and will raise in a future version. Use a list instead.\n",
      "  percentiles =DataFrame[{m}].quantile([(1/3),(2/3)])\n",
      "/var/folders/kl/d4qmnbgd10q401rmyb0lldk40000gn/T/ipykernel_69491/1552380861.py:6: FutureWarning: Passing a set as an indexer is deprecated and will raise in a future version. Use a list instead.\n",
      "  conditions = [(DataFrame[{m}] <= (1/3)),(DataFrame[{m}] > (1/3)) & (DataFrame[{m}] <= (2/3)),(DataFrame[{m}] > (2/3))]\n",
      "/var/folders/kl/d4qmnbgd10q401rmyb0lldk40000gn/T/ipykernel_69491/1552380861.py:6: FutureWarning: Passing a set as an indexer is deprecated and will raise in a future version. Use a list instead.\n",
      "  conditions = [(DataFrame[{m}] <= (1/3)),(DataFrame[{m}] > (1/3)) & (DataFrame[{m}] <= (2/3)),(DataFrame[{m}] > (2/3))]\n",
      "/var/folders/kl/d4qmnbgd10q401rmyb0lldk40000gn/T/ipykernel_69491/1552380861.py:6: FutureWarning: Passing a set as an indexer is deprecated and will raise in a future version. Use a list instead.\n",
      "  conditions = [(DataFrame[{m}] <= (1/3)),(DataFrame[{m}] > (1/3)) & (DataFrame[{m}] <= (2/3)),(DataFrame[{m}] > (2/3))]\n",
      "/var/folders/kl/d4qmnbgd10q401rmyb0lldk40000gn/T/ipykernel_69491/1552380861.py:6: FutureWarning: Passing a set as an indexer is deprecated and will raise in a future version. Use a list instead.\n",
      "  conditions = [(DataFrame[{m}] <= (1/3)),(DataFrame[{m}] > (1/3)) & (DataFrame[{m}] <= (2/3)),(DataFrame[{m}] > (2/3))]\n",
      "/var/folders/kl/d4qmnbgd10q401rmyb0lldk40000gn/T/ipykernel_69491/1552380861.py:4: FutureWarning: Passing a set as an indexer is deprecated and will raise in a future version. Use a list instead.\n",
      "  percentiles =DataFrame[{m}].quantile([(1/3),(2/3)])\n",
      "/var/folders/kl/d4qmnbgd10q401rmyb0lldk40000gn/T/ipykernel_69491/1552380861.py:6: FutureWarning: Passing a set as an indexer is deprecated and will raise in a future version. Use a list instead.\n",
      "  conditions = [(DataFrame[{m}] <= (1/3)),(DataFrame[{m}] > (1/3)) & (DataFrame[{m}] <= (2/3)),(DataFrame[{m}] > (2/3))]\n",
      "/var/folders/kl/d4qmnbgd10q401rmyb0lldk40000gn/T/ipykernel_69491/1552380861.py:6: FutureWarning: Passing a set as an indexer is deprecated and will raise in a future version. Use a list instead.\n",
      "  conditions = [(DataFrame[{m}] <= (1/3)),(DataFrame[{m}] > (1/3)) & (DataFrame[{m}] <= (2/3)),(DataFrame[{m}] > (2/3))]\n",
      "/var/folders/kl/d4qmnbgd10q401rmyb0lldk40000gn/T/ipykernel_69491/1552380861.py:6: FutureWarning: Passing a set as an indexer is deprecated and will raise in a future version. Use a list instead.\n",
      "  conditions = [(DataFrame[{m}] <= (1/3)),(DataFrame[{m}] > (1/3)) & (DataFrame[{m}] <= (2/3)),(DataFrame[{m}] > (2/3))]\n",
      "/var/folders/kl/d4qmnbgd10q401rmyb0lldk40000gn/T/ipykernel_69491/1552380861.py:6: FutureWarning: Passing a set as an indexer is deprecated and will raise in a future version. Use a list instead.\n",
      "  conditions = [(DataFrame[{m}] <= (1/3)),(DataFrame[{m}] > (1/3)) & (DataFrame[{m}] <= (2/3)),(DataFrame[{m}] > (2/3))]\n",
      "/var/folders/kl/d4qmnbgd10q401rmyb0lldk40000gn/T/ipykernel_69491/1552380861.py:4: FutureWarning: Passing a set as an indexer is deprecated and will raise in a future version. Use a list instead.\n",
      "  percentiles =DataFrame[{m}].quantile([(1/3),(2/3)])\n",
      "/var/folders/kl/d4qmnbgd10q401rmyb0lldk40000gn/T/ipykernel_69491/1552380861.py:6: FutureWarning: Passing a set as an indexer is deprecated and will raise in a future version. Use a list instead.\n",
      "  conditions = [(DataFrame[{m}] <= (1/3)),(DataFrame[{m}] > (1/3)) & (DataFrame[{m}] <= (2/3)),(DataFrame[{m}] > (2/3))]\n",
      "/var/folders/kl/d4qmnbgd10q401rmyb0lldk40000gn/T/ipykernel_69491/1552380861.py:6: FutureWarning: Passing a set as an indexer is deprecated and will raise in a future version. Use a list instead.\n",
      "  conditions = [(DataFrame[{m}] <= (1/3)),(DataFrame[{m}] > (1/3)) & (DataFrame[{m}] <= (2/3)),(DataFrame[{m}] > (2/3))]\n",
      "/var/folders/kl/d4qmnbgd10q401rmyb0lldk40000gn/T/ipykernel_69491/1552380861.py:6: FutureWarning: Passing a set as an indexer is deprecated and will raise in a future version. Use a list instead.\n",
      "  conditions = [(DataFrame[{m}] <= (1/3)),(DataFrame[{m}] > (1/3)) & (DataFrame[{m}] <= (2/3)),(DataFrame[{m}] > (2/3))]\n",
      "/var/folders/kl/d4qmnbgd10q401rmyb0lldk40000gn/T/ipykernel_69491/1552380861.py:6: FutureWarning: Passing a set as an indexer is deprecated and will raise in a future version. Use a list instead.\n",
      "  conditions = [(DataFrame[{m}] <= (1/3)),(DataFrame[{m}] > (1/3)) & (DataFrame[{m}] <= (2/3)),(DataFrame[{m}] > (2/3))]\n",
      "/var/folders/kl/d4qmnbgd10q401rmyb0lldk40000gn/T/ipykernel_69491/1552380861.py:4: FutureWarning: Passing a set as an indexer is deprecated and will raise in a future version. Use a list instead.\n",
      "  percentiles =DataFrame[{m}].quantile([(1/3),(2/3)])\n",
      "/var/folders/kl/d4qmnbgd10q401rmyb0lldk40000gn/T/ipykernel_69491/1552380861.py:6: FutureWarning: Passing a set as an indexer is deprecated and will raise in a future version. Use a list instead.\n",
      "  conditions = [(DataFrame[{m}] <= (1/3)),(DataFrame[{m}] > (1/3)) & (DataFrame[{m}] <= (2/3)),(DataFrame[{m}] > (2/3))]\n",
      "/var/folders/kl/d4qmnbgd10q401rmyb0lldk40000gn/T/ipykernel_69491/1552380861.py:6: FutureWarning: Passing a set as an indexer is deprecated and will raise in a future version. Use a list instead.\n",
      "  conditions = [(DataFrame[{m}] <= (1/3)),(DataFrame[{m}] > (1/3)) & (DataFrame[{m}] <= (2/3)),(DataFrame[{m}] > (2/3))]\n",
      "/var/folders/kl/d4qmnbgd10q401rmyb0lldk40000gn/T/ipykernel_69491/1552380861.py:6: FutureWarning: Passing a set as an indexer is deprecated and will raise in a future version. Use a list instead.\n",
      "  conditions = [(DataFrame[{m}] <= (1/3)),(DataFrame[{m}] > (1/3)) & (DataFrame[{m}] <= (2/3)),(DataFrame[{m}] > (2/3))]\n",
      "/var/folders/kl/d4qmnbgd10q401rmyb0lldk40000gn/T/ipykernel_69491/1552380861.py:6: FutureWarning: Passing a set as an indexer is deprecated and will raise in a future version. Use a list instead.\n",
      "  conditions = [(DataFrame[{m}] <= (1/3)),(DataFrame[{m}] > (1/3)) & (DataFrame[{m}] <= (2/3)),(DataFrame[{m}] > (2/3))]\n",
      "/var/folders/kl/d4qmnbgd10q401rmyb0lldk40000gn/T/ipykernel_69491/1552380861.py:4: FutureWarning: Passing a set as an indexer is deprecated and will raise in a future version. Use a list instead.\n",
      "  percentiles =DataFrame[{m}].quantile([(1/3),(2/3)])\n",
      "/var/folders/kl/d4qmnbgd10q401rmyb0lldk40000gn/T/ipykernel_69491/1552380861.py:6: FutureWarning: Passing a set as an indexer is deprecated and will raise in a future version. Use a list instead.\n",
      "  conditions = [(DataFrame[{m}] <= (1/3)),(DataFrame[{m}] > (1/3)) & (DataFrame[{m}] <= (2/3)),(DataFrame[{m}] > (2/3))]\n",
      "/var/folders/kl/d4qmnbgd10q401rmyb0lldk40000gn/T/ipykernel_69491/1552380861.py:6: FutureWarning: Passing a set as an indexer is deprecated and will raise in a future version. Use a list instead.\n",
      "  conditions = [(DataFrame[{m}] <= (1/3)),(DataFrame[{m}] > (1/3)) & (DataFrame[{m}] <= (2/3)),(DataFrame[{m}] > (2/3))]\n",
      "/var/folders/kl/d4qmnbgd10q401rmyb0lldk40000gn/T/ipykernel_69491/1552380861.py:6: FutureWarning: Passing a set as an indexer is deprecated and will raise in a future version. Use a list instead.\n",
      "  conditions = [(DataFrame[{m}] <= (1/3)),(DataFrame[{m}] > (1/3)) & (DataFrame[{m}] <= (2/3)),(DataFrame[{m}] > (2/3))]\n",
      "/var/folders/kl/d4qmnbgd10q401rmyb0lldk40000gn/T/ipykernel_69491/1552380861.py:6: FutureWarning: Passing a set as an indexer is deprecated and will raise in a future version. Use a list instead.\n",
      "  conditions = [(DataFrame[{m}] <= (1/3)),(DataFrame[{m}] > (1/3)) & (DataFrame[{m}] <= (2/3)),(DataFrame[{m}] > (2/3))]\n",
      "/var/folders/kl/d4qmnbgd10q401rmyb0lldk40000gn/T/ipykernel_69491/1552380861.py:4: FutureWarning: Passing a set as an indexer is deprecated and will raise in a future version. Use a list instead.\n",
      "  percentiles =DataFrame[{m}].quantile([(1/3),(2/3)])\n",
      "/var/folders/kl/d4qmnbgd10q401rmyb0lldk40000gn/T/ipykernel_69491/1552380861.py:6: FutureWarning: Passing a set as an indexer is deprecated and will raise in a future version. Use a list instead.\n",
      "  conditions = [(DataFrame[{m}] <= (1/3)),(DataFrame[{m}] > (1/3)) & (DataFrame[{m}] <= (2/3)),(DataFrame[{m}] > (2/3))]\n",
      "/var/folders/kl/d4qmnbgd10q401rmyb0lldk40000gn/T/ipykernel_69491/1552380861.py:6: FutureWarning: Passing a set as an indexer is deprecated and will raise in a future version. Use a list instead.\n",
      "  conditions = [(DataFrame[{m}] <= (1/3)),(DataFrame[{m}] > (1/3)) & (DataFrame[{m}] <= (2/3)),(DataFrame[{m}] > (2/3))]\n",
      "/var/folders/kl/d4qmnbgd10q401rmyb0lldk40000gn/T/ipykernel_69491/1552380861.py:6: FutureWarning: Passing a set as an indexer is deprecated and will raise in a future version. Use a list instead.\n",
      "  conditions = [(DataFrame[{m}] <= (1/3)),(DataFrame[{m}] > (1/3)) & (DataFrame[{m}] <= (2/3)),(DataFrame[{m}] > (2/3))]\n",
      "/var/folders/kl/d4qmnbgd10q401rmyb0lldk40000gn/T/ipykernel_69491/1552380861.py:6: FutureWarning: Passing a set as an indexer is deprecated and will raise in a future version. Use a list instead.\n",
      "  conditions = [(DataFrame[{m}] <= (1/3)),(DataFrame[{m}] > (1/3)) & (DataFrame[{m}] <= (2/3)),(DataFrame[{m}] > (2/3))]\n",
      "/var/folders/kl/d4qmnbgd10q401rmyb0lldk40000gn/T/ipykernel_69491/1552380861.py:4: FutureWarning: Passing a set as an indexer is deprecated and will raise in a future version. Use a list instead.\n",
      "  percentiles =DataFrame[{m}].quantile([(1/3),(2/3)])\n",
      "/var/folders/kl/d4qmnbgd10q401rmyb0lldk40000gn/T/ipykernel_69491/1552380861.py:6: FutureWarning: Passing a set as an indexer is deprecated and will raise in a future version. Use a list instead.\n",
      "  conditions = [(DataFrame[{m}] <= (1/3)),(DataFrame[{m}] > (1/3)) & (DataFrame[{m}] <= (2/3)),(DataFrame[{m}] > (2/3))]\n",
      "/var/folders/kl/d4qmnbgd10q401rmyb0lldk40000gn/T/ipykernel_69491/1552380861.py:6: FutureWarning: Passing a set as an indexer is deprecated and will raise in a future version. Use a list instead.\n",
      "  conditions = [(DataFrame[{m}] <= (1/3)),(DataFrame[{m}] > (1/3)) & (DataFrame[{m}] <= (2/3)),(DataFrame[{m}] > (2/3))]\n",
      "/var/folders/kl/d4qmnbgd10q401rmyb0lldk40000gn/T/ipykernel_69491/1552380861.py:6: FutureWarning: Passing a set as an indexer is deprecated and will raise in a future version. Use a list instead.\n",
      "  conditions = [(DataFrame[{m}] <= (1/3)),(DataFrame[{m}] > (1/3)) & (DataFrame[{m}] <= (2/3)),(DataFrame[{m}] > (2/3))]\n",
      "/var/folders/kl/d4qmnbgd10q401rmyb0lldk40000gn/T/ipykernel_69491/1552380861.py:6: FutureWarning: Passing a set as an indexer is deprecated and will raise in a future version. Use a list instead.\n",
      "  conditions = [(DataFrame[{m}] <= (1/3)),(DataFrame[{m}] > (1/3)) & (DataFrame[{m}] <= (2/3)),(DataFrame[{m}] > (2/3))]\n",
      "/var/folders/kl/d4qmnbgd10q401rmyb0lldk40000gn/T/ipykernel_69491/1552380861.py:4: FutureWarning: Passing a set as an indexer is deprecated and will raise in a future version. Use a list instead.\n",
      "  percentiles =DataFrame[{m}].quantile([(1/3),(2/3)])\n",
      "/var/folders/kl/d4qmnbgd10q401rmyb0lldk40000gn/T/ipykernel_69491/1552380861.py:6: FutureWarning: Passing a set as an indexer is deprecated and will raise in a future version. Use a list instead.\n",
      "  conditions = [(DataFrame[{m}] <= (1/3)),(DataFrame[{m}] > (1/3)) & (DataFrame[{m}] <= (2/3)),(DataFrame[{m}] > (2/3))]\n",
      "/var/folders/kl/d4qmnbgd10q401rmyb0lldk40000gn/T/ipykernel_69491/1552380861.py:6: FutureWarning: Passing a set as an indexer is deprecated and will raise in a future version. Use a list instead.\n",
      "  conditions = [(DataFrame[{m}] <= (1/3)),(DataFrame[{m}] > (1/3)) & (DataFrame[{m}] <= (2/3)),(DataFrame[{m}] > (2/3))]\n",
      "/var/folders/kl/d4qmnbgd10q401rmyb0lldk40000gn/T/ipykernel_69491/1552380861.py:6: FutureWarning: Passing a set as an indexer is deprecated and will raise in a future version. Use a list instead.\n",
      "  conditions = [(DataFrame[{m}] <= (1/3)),(DataFrame[{m}] > (1/3)) & (DataFrame[{m}] <= (2/3)),(DataFrame[{m}] > (2/3))]\n",
      "/var/folders/kl/d4qmnbgd10q401rmyb0lldk40000gn/T/ipykernel_69491/1552380861.py:6: FutureWarning: Passing a set as an indexer is deprecated and will raise in a future version. Use a list instead.\n",
      "  conditions = [(DataFrame[{m}] <= (1/3)),(DataFrame[{m}] > (1/3)) & (DataFrame[{m}] <= (2/3)),(DataFrame[{m}] > (2/3))]\n"
     ]
    }
   ],
   "source": [
    "#Creating High/Average/Low values for each coffee metric score\n",
    "def Score_categories(DataFrame, Score_Columns): \n",
    "    for i, m in enumerate(Score_Columns):\n",
    "        percentiles =DataFrame[{m}].quantile([(1/3),(2/3)])\n",
    "\n",
    "        conditions = [(DataFrame[{m}] <= (1/3)),(DataFrame[{m}] > (1/3)) & (DataFrame[{m}] <= (2/3)),(DataFrame[{m}] > (2/3))]\n",
    "        values = ['Low', 'Average', 'High']\n",
    "        DataFrame[f\"{m}_Bucket\"] = np.select(conditions, values)\n",
    "\n",
    "metrics = ['Aroma', 'Flavor', 'Aftertaste', 'Acidity', 'Body',\n",
    "'Balance', 'Uniformity', 'Clean.Cup', 'Sweetness', 'Cupper.Points',\n",
    "'CoffeeScore', 'Moisture', 'Category.One.Defects', 'Quakers', 'Category.Two.Defects','altitude_mean_meters','Number.of.Bags']\n",
    "Score_categories(coffee_df_new, metrics)"
   ]
  },
  {
   "cell_type": "code",
   "execution_count": 82,
   "id": "11595db3-d336-47d2-a535-80a7f28e2598",
   "metadata": {},
   "outputs": [
    {
     "data": {
      "text/plain": [
       "Index(['Unnamed: 0', 'Species', 'Owner', 'Country_of_Origin', 'Farm.Name',\n",
       "       'Altitude', 'Region', 'Number.of.Bags', 'Bag.Weight', 'Harvest.Year',\n",
       "       'Grading.Date', 'Variety', 'Processing_Method', 'Aroma', 'Flavor',\n",
       "       'Aftertaste', 'Acidity', 'Body', 'Balance', 'Uniformity', 'Clean.Cup',\n",
       "       'Sweetness', 'Cupper.Points', 'CoffeeScore', 'Moisture',\n",
       "       'Category.One.Defects', 'Quakers', 'Color', 'Category.Two.Defects',\n",
       "       'unit_of_measurement', 'altitude_low_meters', 'altitude_high_meters',\n",
       "       'altitude_mean_meters', 'Aroma_Bucket', 'Flavor_Bucket',\n",
       "       'Aftertaste_Bucket', 'Acidity_Bucket', 'Body_Bucket', 'Balance_Bucket',\n",
       "       'Uniformity_Bucket', 'Clean.Cup_Bucket', 'Sweetness_Bucket',\n",
       "       'Cupper.Points_Bucket', 'CoffeeScore_Bucket', 'Moisture_Bucket',\n",
       "       'Category.One.Defects_Bucket', 'Quakers_Bucket',\n",
       "       'Category.Two.Defects_Bucket', 'altitude_mean_meters_Bucket',\n",
       "       'Number.of.Bags_Bucket'],\n",
       "      dtype='object')"
      ]
     },
     "execution_count": 82,
     "metadata": {},
     "output_type": "execute_result"
    }
   ],
   "source": [
    "coffee_df_new.columns"
   ]
  },
  {
   "cell_type": "code",
   "execution_count": 126,
   "id": "e2516f3c-229b-4423-8dbb-9a013dd59c91",
   "metadata": {},
   "outputs": [
    {
     "data": {
      "text/plain": [
       "173"
      ]
     },
     "execution_count": 126,
     "metadata": {},
     "output_type": "execute_result"
    }
   ],
   "source": [
    "#Test\n",
    "coffee_columbia = coffee_df_new.loc[(coffee_df_new[\"Country_of_Origin\"]==\"Colombia\") & (coffee_df_new[\"Aroma_Bucket\"]==\"High\"),\"Aroma_Bucket\"].count()\n",
    "coffee_columbia"
   ]
  },
  {
   "cell_type": "code",
   "execution_count": 171,
   "id": "dea0e1e2-1fb5-4ff3-b136-ea76822ed42f",
   "metadata": {},
   "outputs": [
    {
     "data": {
      "text/plain": [
       "[173,\n",
       " 173,\n",
       " 173,\n",
       " 173,\n",
       " 173,\n",
       " 173,\n",
       " 173,\n",
       " 173,\n",
       " 173,\n",
       " 173,\n",
       " 173,\n",
       " 0,\n",
       " 34,\n",
       " 10,\n",
       " 123,\n",
       " 150,\n",
       " 172]"
      ]
     },
     "execution_count": 171,
     "metadata": {},
     "output_type": "execute_result"
    }
   ],
   "source": [
    "#High score distribution for Colombia\n",
    "metrics = ['Aroma_Bucket', 'Flavor_Bucket','Aftertaste_Bucket', 'Acidity_Bucket', 'Body_Bucket', 'Balance_Bucket','Uniformity_Bucket', 'Clean.Cup_Bucket', 'Sweetness_Bucket',\\\n",
    "           'Cupper.Points_Bucket', 'CoffeeScore_Bucket', 'Moisture_Bucket','Category.One.Defects_Bucket', 'Quakers_Bucket','Category.Two.Defects_Bucket', 'altitude_mean_meters_Bucket',\\\n",
    "           'Number.of.Bags_Bucket']\n",
    "colombia_dist =[]\n",
    "\n",
    "def score_counts(cols):\n",
    "    for i,m in enumerate(cols):\n",
    "        colombia_dist.append(coffee_df_new.loc[(coffee_df_new[\"Country_of_Origin\"]==\"Colombia\") & (coffee_df_new[m]==\"High\"),m].count())\n",
    "                                \n",
    "score_counts(metrics)\n",
    "colombia_dist"
   ]
  },
  {
   "cell_type": "code",
   "execution_count": 172,
   "id": "f73d3314-f42d-4dd8-93c3-c01c36b1a911",
   "metadata": {},
   "outputs": [
    {
     "data": {
      "text/plain": [
       "[173,\n",
       " 173,\n",
       " 173,\n",
       " 173,\n",
       " 173,\n",
       " 173,\n",
       " 173,\n",
       " 173,\n",
       " 173,\n",
       " 173,\n",
       " 173,\n",
       " 0,\n",
       " 24,\n",
       " 12,\n",
       " 128,\n",
       " 152,\n",
       " 173]"
      ]
     },
     "execution_count": 172,
     "metadata": {},
     "output_type": "execute_result"
    }
   ],
   "source": [
    "#High score distribution for rest of the world\n",
    "metrics = ['Aroma_Bucket', 'Flavor_Bucket','Aftertaste_Bucket', 'Acidity_Bucket', 'Body_Bucket', 'Balance_Bucket','Uniformity_Bucket', 'Clean.Cup_Bucket', 'Sweetness_Bucket',\\\n",
    "           'Cupper.Points_Bucket', 'CoffeeScore_Bucket', 'Moisture_Bucket','Category.One.Defects_Bucket', 'Quakers_Bucket','Category.Two.Defects_Bucket', 'altitude_mean_meters_Bucket',\\\n",
    "           'Number.of.Bags_Bucket']\n",
    "All_dist =[]\n",
    "\n",
    "def score_counts(cols):\n",
    "    for i,m in enumerate(cols):\n",
    "        All_dist.append(coffee_df_new.loc[(coffee_df_new[\"Country_of_Origin\"]!=\"Colombia\") & (coffee_df_new[m]==\"High\"),m].count())                           \n",
    "score_counts(metrics)\n",
    "\n",
    "All_dist_norm=(All_dist/sum(All_dist))*sum(colombia_dist)\n",
    "All_dist_round = [int(round(i,0)) for i in All_dist_norm]\n",
    "All_dist_round"
   ]
  },
  {
   "cell_type": "code",
   "execution_count": 173,
   "id": "10d36496-4a12-4bbb-844a-a34a57d47980",
   "metadata": {},
   "outputs": [
    {
     "data": {
      "text/plain": [
       "7.814727903251179"
      ]
     },
     "execution_count": 173,
     "metadata": {},
     "output_type": "execute_result"
    }
   ],
   "source": [
    "# With 17 rows, the degree of freedom is 17-1 = 16\n",
    "# With a p-value of 0.05, the confidence level is 1.00-0.05 = 0.95.\n",
    "critical_value = stats.chi2.ppf(q = 0.95, df = 3)\n",
    "critical_value"
   ]
  },
  {
   "cell_type": "code",
   "execution_count": 175,
   "id": "d5f58c62-d767-408d-8684-1af839cc4e27",
   "metadata": {},
   "outputs": [
    {
     "name": "stderr",
     "output_type": "stream",
     "text": [
      "/Users/snehathomas/anaconda3/lib/python3.10/site-packages/scipy/stats/_stats_py.py:7412: RuntimeWarning: invalid value encountered in divide\n",
      "  terms = (f_obs_float - f_exp)**2 / f_exp\n"
     ]
    },
    {
     "data": {
      "text/plain": [
       "Power_divergenceResult(statistic=nan, pvalue=nan)"
      ]
     },
     "execution_count": 175,
     "metadata": {},
     "output_type": "execute_result"
    }
   ],
   "source": [
    "stats.chisquare(colombia_dist, All_dist_round)"
   ]
  },
  {
   "cell_type": "code",
   "execution_count": 1,
   "id": "3eda0520-8da2-4636-971d-e934a972afdb",
   "metadata": {},
   "outputs": [],
   "source": [
    "#SNEHA -- END -- QUESTION 2 : This team likes Columbian coffee: H0: Distribution of \"Good\" Scores across metrics is not significant in Columbia vs the world"
   ]
  },
  {
   "cell_type": "code",
   "execution_count": null,
   "id": "f3500aeb-adbd-4e12-84a2-d590ea05658c",
   "metadata": {},
   "outputs": [],
   "source": [
    "#GANESH -- START -- QUESTION 3 : Procesing Method - Visualize with scatter - metrics Scores vs Processing Method"
   ]
  },
  {
   "cell_type": "code",
   "execution_count": null,
   "id": "bfd5648e-e73d-4b67-9916-68d530c78269",
   "metadata": {},
   "outputs": [],
   "source": []
  },
  {
   "cell_type": "code",
   "execution_count": null,
   "id": "429e06b4-5af7-45f2-a6e7-781706bd1d64",
   "metadata": {},
   "outputs": [],
   "source": [
    "#GANESH -- END -- QUESTION 3 : Procesing Method - Visualize with scatter - metrics Scores vs Processing Method"
   ]
  },
  {
   "cell_type": "code",
   "execution_count": null,
   "id": "e6608ea3-1a3c-48bf-8699-bdea573bf49a",
   "metadata": {},
   "outputs": [],
   "source": [
    "#TAYLOR -- START -- QUESTION 4 : ANOVA - Flavor, Aroma, Body - Distribution impact by Processing methods"
   ]
  },
  {
   "cell_type": "code",
   "execution_count": null,
   "id": "55ef75fc-8aaf-41d4-a5a0-16200fe90922",
   "metadata": {},
   "outputs": [],
   "source": []
  },
  {
   "cell_type": "code",
   "execution_count": null,
   "id": "d5354a49-edfb-4654-84fd-79b289839b14",
   "metadata": {},
   "outputs": [],
   "source": [
    "#TAYLOR -- END -- QUESTION 4 : ANOVA - Flavor, Aroma, Body - Distribution impact by Processing methods"
   ]
  },
  {
   "cell_type": "code",
   "execution_count": null,
   "id": "6f0604c0-06e3-4b3d-b415-2c79ab0ac242",
   "metadata": {},
   "outputs": [],
   "source": [
    "#AARON -- START -- QUESTION 5 : Color coded map for Species? Overall Scores?"
   ]
  },
  {
   "cell_type": "code",
   "execution_count": null,
   "id": "25798290-f91a-4c76-ab4f-a2b52e7987ca",
   "metadata": {},
   "outputs": [],
   "source": [
    "countries = [\"Spain\"]#, \"England\", \"Ireland\"]\n",
    "url = f\"https://api.geoapify.com/v1/geocode/search?\"\n",
    "country_coordinates = []\n",
    "def color_coffee_map(countries):\n",
    "    \n",
    "     #coffee_df_new[\"Country\"]\n",
    "    for i, country in enumerate(countries):\n",
    "\n",
    "        \n",
    "        #target_country = countries #coffee_df_new[\"Country\"]\n",
    "        params = {'country' : country,\n",
    "                  'apiKey': api_key,\n",
    "                  }\n",
    "        response = requests.get(url, params=params).json()\n",
    "        print(response.status_code)\n",
    "        print(json.dumps(response, indent=4, sort_keys=True))\n",
    "        \n",
    "        latitude = response[\"features\"][0][\"properties\"][\"lat\"]\n",
    "        longitude = response[\"features\"][0][\"properties\"][\"lon\"]\n",
    "\n",
    "        country_coordinates.append({\n",
    "            \"country\" : country,\n",
    "            \"lat\" : latitude,\n",
    "            \"lon\" : longitude\n",
    "        })\n",
    "        #else: pass\n",
    "\n",
    "        country_coordinates_df = pd.DataFrame(country_coordinates)\n",
    "        print(country_coordinates_df)\n",
    "\n",
    "        #add lat and long columns into df\n",
    "\n",
    "    map = country_coordinates_df.hvplot.points(\n",
    "            \"lon\",\n",
    "            \"lat\",\n",
    "            geo = True,\n",
    "            tiles = \"OSM\",\n",
    "            \n",
    "            #size = \"CoffeeScore\",\n",
    "            \n",
    "            color = \"country\",\n",
    "            frame_width = 800,\n",
    "            frame_height = 600,\n",
    "            scale = 0.5\n",
    "\n",
    "           )\n",
    "    return map\n",
    "\n",
    "\n",
    "color_coffee_map(countries)\n"
   ]
  },
  {
   "cell_type": "code",
   "execution_count": null,
   "id": "c52eb3e2-6ca1-4c4d-9c2c-254bc0651b0e",
   "metadata": {},
   "outputs": [],
   "source": [
    "#AARON -- END -- QUESTION 5 : Color coded map for Species? Overall Scores?"
   ]
  }
 ],
 "metadata": {
  "kernelspec": {
   "display_name": "Python 3 (ipykernel)",
   "language": "python",
   "name": "python3"
  },
  "language_info": {
   "codemirror_mode": {
    "name": "ipython",
    "version": 3
   },
   "file_extension": ".py",
   "mimetype": "text/x-python",
   "name": "python",
   "nbconvert_exporter": "python",
   "pygments_lexer": "ipython3",
   "version": "3.10.9"
  }
 },
 "nbformat": 4,
 "nbformat_minor": 5
}
