{
 "cells": [
  {
   "cell_type": "code",
   "execution_count": null,
   "id": "08aabaf2-8852-406b-ba38-57ac8ae3752d",
   "metadata": {},
   "outputs": [],
   "source": [
    "#TAYLOR -- START -- QUESTION 1 : The distribution scores across metrics -Compare Arabica and Robusta (Maybe stacked bar?)\n",
    "\n",
    "coffee_df_new = coffee_df.rename(columns={'Total.Cup.Points': 'CoffeeScore',\n",
    "                                            'Country.of.Origin': 'Country_of_Origin',\n",
    "                                         'Processing.Method': 'Processing_Method'})"
   ]
  },
  {
   "cell_type": "code",
   "execution_count": null,
   "id": "70b4ad64-8966-4832-a1bb-ecd8ce021940",
   "metadata": {},
   "outputs": [],
   "source": [
    "#Create a pie chart of coffee value counts by Species\n",
    "\n",
    "count_of_species = coffee_df_new['Species'].value_counts()\n",
    "count_of_species\n",
    "labels = ['Arabica','Robusta']\n",
    "plt.pie(count_of_species, labels=labels,autopct='%1.1f%%')\n",
    "plt.show()"
   ]
  },
  {
   "cell_type": "code",
   "execution_count": null,
   "id": "2683952d-cfaf-48ee-bc12-03d2dcaaf40a",
   "metadata": {},
   "outputs": [],
   "source": [
    "#Create bar chart showing the percentage of coffee that is Arabica vs Robusta\n",
    "\n",
    "species_means = coffee_df_new.groupby(['Species'])['CoffeeScore'].mean()\n",
    "species_score_chart = species_means.plot(kind='bar', x='Species', rot=0)\n",
    "plt.ylim(0,100)\n",
    "plt.ylabel('Coffee Score')\n",
    "plt.title('Coffee Score by Species')\n",
    "\n",
    "for container in species_score_chart.containers:\n",
    "    species_score_chart.bar_label(container, fmt='%.1f', fontsize=12)\n",
    "plt.show()"
   ]
  },
  {
   "cell_type": "code",
   "execution_count": null,
   "id": "233b220c-436d-46bb-aed8-0f8e9dc309ef",
   "metadata": {},
   "outputs": [],
   "source": [
    "#Stacked bar by Country of Origin and Species\n",
    "\n",
    "coffee_df_new.groupby(['Country_of_Origin', 'Species']).size().unstack().plot(kind='bar', color=['saddlebrown', 'peru'], stacked=True)\n",
    "plt.ylabel(\"Value Count of Unique Coffee Beans\")\n",
    "plt.show()"
   ]
  },
  {
   "cell_type": "code",
   "execution_count": null,
   "id": "e4b6478e-098d-4fbb-8ddd-c5a9e658481d",
   "metadata": {},
   "outputs": [],
   "source": [
    "#Create Dataframes for the means of attributes for each species, and merge\n",
    "\n",
    "mean_df_arabica = pd.DataFrame({'Attribute': ['Flavor','Aroma','Aftertaste','Body', 'Acidity', 'Uniformity', 'Balance'],\n",
    "                                'Arabica': [7.518070, 7.563806, 7.397696, 7.517727, 7.533112, 9.833394, 7.517506]})\n",
    "mean_df_robusta = pd.DataFrame({'Attribute': ['Flavor','Aroma','Aftertaste','Body', 'Acidity', 'Uniformity', 'Balance'],\n",
    "                                'Robusta': [7.630714, 7.702500, 7.559643, 7.506786, 7.657143, 9.904286, 7.541786]})\n",
    "\n",
    "coffee_means = pd.merge(mean_df_arabica, mean_df_robusta, on='Attribute')"
   ]
  },
  {
   "cell_type": "code",
   "execution_count": null,
   "id": "d58254b5-0d8c-46dc-9591-7dc25b519477",
   "metadata": {},
   "outputs": [],
   "source": [
    "#TAYLOR -- END -- QUESTION 1 : The distribution scores across metrics -Compare Arabica and Robusta (Maybe stacked bar?)\n",
    "\n",
    "#Plot a grouped bar chart for means of attributes by species\n",
    "\n",
    "species_attribute_chart = coffee_means.plot(kind='bar', x='Attribute', color=['saddlebrown', 'peru'], logy=True, rot=0)\n",
    "species_attribute_chart.legend(bbox_to_anchor=(1.05, 1), loc='upper left')\n",
    "plt.ylabel('Average Attribute Score')\n",
    "plt.title('Average of Attribute Scores by Species')\n",
    "plt.show()"
   ]
  },
  {
   "cell_type": "code",
   "execution_count": null,
   "id": "b8d5d1b7-3bd8-4202-ba7c-fcabff74e4db",
   "metadata": {},
   "outputs": [],
   "source": [
    "#SNEHA -- START -- QUESTION 2 : This team likes Columbian coffee: H0: Distribution of \"Good\" Scores across metrics is not significant in Columbia vs the world"
   ]
  },
  {
   "cell_type": "code",
   "execution_count": null,
   "id": "df8eb8ae-836a-42b2-b885-93d2d5365ec1",
   "metadata": {},
   "outputs": [],
   "source": []
  },
  {
   "cell_type": "code",
   "execution_count": 1,
   "id": "3eda0520-8da2-4636-971d-e934a972afdb",
   "metadata": {},
   "outputs": [],
   "source": [
    "#SNEHA -- END -- QUESTION 2 : This team likes Columbian coffee: H0: Distribution of \"Good\" Scores across metrics is not significant in Columbia vs the world"
   ]
  },
  {
   "cell_type": "code",
   "execution_count": null,
   "id": "f3500aeb-adbd-4e12-84a2-d590ea05658c",
   "metadata": {},
   "outputs": [],
   "source": [
    "#GANESH -- START -- QUESTION 3 : Procesing Method - Visualize with scatter - metrics Scores vs Processing Method"
   ]
  },
  {
   "cell_type": "code",
   "execution_count": null,
   "id": "bfd5648e-e73d-4b67-9916-68d530c78269",
   "metadata": {},
   "outputs": [],
   "source": []
  },
  {
   "cell_type": "code",
   "execution_count": null,
   "id": "429e06b4-5af7-45f2-a6e7-781706bd1d64",
   "metadata": {},
   "outputs": [],
   "source": [
    "#GANESH -- END -- QUESTION 3 : Procesing Method - Visualize with scatter - metrics Scores vs Processing Method"
   ]
  },
  {
   "cell_type": "code",
   "execution_count": null,
   "id": "e6608ea3-1a3c-48bf-8699-bdea573bf49a",
   "metadata": {},
   "outputs": [],
   "source": [
    "#TAYLOR -- START -- QUESTION 4 : ANOVA - Flavor, Aroma, Body - Distribution impact by Processing methods\n",
    "\n",
    "#Create a boxplot to compare Flavor score means across processing methods\n",
    "\n",
    "#Flavor ANOVA\n",
    "#Create a boxplot to compare Flavor score means across processing methods\n",
    "coffee_df_new.boxplot('Flavor', by='Processing_Method', figsize=(20,10))\n",
    "plt.ylabel('Average Score for Flavor')\n",
    "plt.show()"
   ]
  },
  {
   "cell_type": "code",
   "execution_count": null,
   "id": "55ef75fc-8aaf-41d4-a5a0-16200fe90922",
   "metadata": {},
   "outputs": [],
   "source": [
    "#Flavor ANOVA\n",
    "#Extract individual groups\n",
    "group0 = coffee_df_new[coffee_df_new['Processing_Method'] == 'Natural / Dry']['Flavor']\n",
    "group1 = coffee_df_new[coffee_df_new['Processing_Method'] == 'Other']['Flavor']\n",
    "group2 = coffee_df_new[coffee_df_new['Processing_Method'] == 'Pulped natural / honey']['Flavor']\n",
    "group3 = coffee_df_new[coffee_df_new['Processing_Method'] == 'Semi-washed / Semi-pulped']['Flavor']\n",
    "group4 = coffee_df_new[coffee_df_new['Processing_Method'] == 'Washed / Wet']['Flavor']"
   ]
  },
  {
   "cell_type": "code",
   "execution_count": null,
   "id": "e034102a-eef6-48c2-a7e1-34ff0a65e0c1",
   "metadata": {},
   "outputs": [],
   "source": [
    "#Flavor ANOVA\n",
    "#Perform the ANOVA\n",
    "stats.f_oneway(group0, group1, group2, group3, group4)"
   ]
  },
  {
   "cell_type": "code",
   "execution_count": null,
   "id": "ea4d8c61-b6fd-4268-8d39-4a3cc1989560",
   "metadata": {},
   "outputs": [],
   "source": [
    "#Aroma ANOVA\n",
    "#Create a boxplot to compare Aroma score means across processing methods\n",
    "coffee_df_new.boxplot('Aroma', by='Processing_Method', figsize=(20,10))\n",
    "plt.ylabel('Average Score for Aroma')\n",
    "plt.show()"
   ]
  },
  {
   "cell_type": "code",
   "execution_count": null,
   "id": "2b1a49d9-aa0d-4d20-8ccb-b9f235687086",
   "metadata": {},
   "outputs": [],
   "source": [
    "#Aroma ANOVA\n",
    "#Extract individual groups\n",
    "group0 = coffee_df_new[coffee_df_new['Processing_Method'] == 'Natural / Dry']['Aroma']\n",
    "group1 = coffee_df_new[coffee_df_new['Processing_Method'] == 'Other']['Aroma']\n",
    "group2 = coffee_df_new[coffee_df_new['Processing_Method'] == 'Pulped natural / honey']['Aroma']\n",
    "group3 = coffee_df_new[coffee_df_new['Processing_Method'] == 'Semi-washed / Semi-pulped']['Aroma']\n",
    "group4 = coffee_df_new[coffee_df_new['Processing_Method'] == 'Washed / Wet']['Aroma']"
   ]
  },
  {
   "cell_type": "code",
   "execution_count": null,
   "id": "ab29dbda-b32d-46ed-a13c-37a8271a8a50",
   "metadata": {},
   "outputs": [],
   "source": [
    "#Aroma ANOVA\n",
    "#Perform the ANOVA\n",
    "stats.f_oneway(group0, group1, group2, group3, group4)"
   ]
  },
  {
   "cell_type": "code",
   "execution_count": null,
   "id": "77223791-0cd4-4a71-9307-34e7a38e6df7",
   "metadata": {},
   "outputs": [],
   "source": [
    "#Body ANOVA\n",
    "#Create a boxplot to compare Body score means across processing methods\n",
    "coffee_df_new.boxplot('Body', by='Processing_Method', figsize=(20,10))\n",
    "plt.ylabel('Average Score for Body')\n",
    "plt.show()"
   ]
  },
  {
   "cell_type": "code",
   "execution_count": null,
   "id": "4cbb0ed0-adf0-4be7-80ae-baf96ac4bf64",
   "metadata": {},
   "outputs": [],
   "source": [
    "#Body ANOVA\n",
    "#Extract individual groups\n",
    "group0 = coffee_df_new[coffee_df_new['Processing_Method'] == 'Natural / Dry']['Body']\n",
    "group1 = coffee_df_new[coffee_df_new['Processing_Method'] == 'Other']['Body']\n",
    "group2 = coffee_df_new[coffee_df_new['Processing_Method'] == 'Pulped natural / honey']['Body']\n",
    "group3 = coffee_df_new[coffee_df_new['Processing_Method'] == 'Semi-washed / Semi-pulped']['Body']\n",
    "group4 = coffee_df_new[coffee_df_new['Processing_Method'] == 'Washed / Wet']['Body']"
   ]
  },
  {
   "cell_type": "code",
   "execution_count": null,
   "id": "d5354a49-edfb-4654-84fd-79b289839b14",
   "metadata": {},
   "outputs": [],
   "source": [
    "#TAYLOR -- END -- QUESTION 4 : ANOVA - Flavor, Aroma, Body - Distribution impact by Processing methods\n",
    "#Body ANOVA\n",
    "#Perform the ANOVA\n",
    "stats.f_oneway(group0, group1, group2, group3, group4)"
   ]
  },
  {
   "cell_type": "code",
   "execution_count": null,
   "id": "6f0604c0-06e3-4b3d-b415-2c79ab0ac242",
   "metadata": {},
   "outputs": [],
   "source": [
    "#AARON -- START -- QUESTION 5 : Color coded map for Species? Overall Scores?"
   ]
  },
  {
   "cell_type": "code",
   "execution_count": null,
   "id": "25798290-f91a-4c76-ab4f-a2b52e7987ca",
   "metadata": {},
   "outputs": [],
   "source": []
  },
  {
   "cell_type": "code",
   "execution_count": null,
   "id": "c52eb3e2-6ca1-4c4d-9c2c-254bc0651b0e",
   "metadata": {},
   "outputs": [],
   "source": [
    "#AARON -- END -- QUESTION 5 : Color coded map for Species? Overall Scores?"
   ]
  }
 ],
 "metadata": {
  "kernelspec": {
   "display_name": "Python 3 (ipykernel)",
   "language": "python",
   "name": "python3"
  },
  "language_info": {
   "codemirror_mode": {
    "name": "ipython",
    "version": 3
   },
   "file_extension": ".py",
   "mimetype": "text/x-python",
   "name": "python",
   "nbconvert_exporter": "python",
   "pygments_lexer": "ipython3",
   "version": "3.10.9"
  }
 },
 "nbformat": 4,
 "nbformat_minor": 5
}
