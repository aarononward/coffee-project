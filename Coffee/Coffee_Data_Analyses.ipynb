{
 "cells": [
  {
   "cell_type": "code",
   "execution_count": null,
   "id": "8763554a-92ab-45e8-9ed1-22daec028dac",
   "metadata": {},
   "outputs": [],
   "source": [
    "#SNEHA -- START -- IMPORT CLEAN DATA FROM RONDA'S EXPORT"
   ]
  },
  {
   "cell_type": "code",
   "execution_count": 4,
   "id": "1f5cb746-a72c-489c-8a1d-f53e4825db09",
   "metadata": {},
   "outputs": [],
   "source": [
    "#Import Libraries\n",
    "import numpy as np\n",
    "import pandas as pd \n",
    "import matplotlib.pyplot as plt\n",
    "from sklearn import linear_model as lm\n",
    "import seaborn as sns\n",
    "import numpy as np\n",
    "import scipy.stats as stats\n",
    "from pathlib import Path\n",
    "import requests\n",
    "import time\n",
    "from pprint import pprint"
   ]
  },
  {
   "cell_type": "code",
   "execution_count": 5,
   "id": "d96146a7-96f7-4b84-ad1f-5a0c55684a4b",
   "metadata": {},
   "outputs": [
    {
     "data": {
      "text/plain": [
       "Index(['Unnamed: 0', 'Species', 'Owner', 'Country_of_Origin', 'Farm.Name',\n",
       "       'Altitude', 'Region', 'Number.of.Bags', 'Bag.Weight', 'Harvest.Year',\n",
       "       'Grading.Date', 'Variety', 'Processing_Method', 'Aroma', 'Flavor',\n",
       "       'Aftertaste', 'Acidity', 'Body', 'Balance', 'Uniformity', 'Clean.Cup',\n",
       "       'Sweetness', 'Cupper.Points', 'CoffeeScore', 'Moisture',\n",
       "       'Category.One.Defects', 'Quakers', 'Color', 'Category.Two.Defects',\n",
       "       'unit_of_measurement', 'altitude_low_meters', 'altitude_high_meters',\n",
       "       'altitude_mean_meters'],\n",
       "      dtype='object')"
      ]
     },
     "execution_count": 5,
     "metadata": {},
     "output_type": "execute_result"
    }
   ],
   "source": [
    "# CLEANED DATA IMPORT FROM RONDA\"S EXPOPRTED CSV\n",
    "csv_path = Path('Coffee_exp.csv')\n",
    "coffee_df = pd.read_csv(csv_path, encoding=\"utf8\")\n",
    "coffee_df.columns"
   ]
  },
  {
   "cell_type": "code",
   "execution_count": 7,
   "id": "2a26d09f-3922-46a5-aad6-7a052d9dda65",
   "metadata": {},
   "outputs": [
    {
     "data": {
      "text/plain": [
       "Index(['Unnamed: 0', 'Species', 'Owner', 'Country_of_Origin', 'Farm.Name',\n",
       "       'Altitude', 'Region', 'Number.of.Bags', 'Bag.Weight', 'Harvest.Year',\n",
       "       'Grading.Date', 'Variety', 'Processing_Method', 'Aroma', 'Flavor',\n",
       "       'Aftertaste', 'Acidity', 'Body', 'Balance', 'Uniformity', 'Clean.Cup',\n",
       "       'Sweetness', 'Cupper.Points', 'CoffeeScore', 'Moisture',\n",
       "       'Category.One.Defects', 'Quakers', 'Color', 'Category.Two.Defects',\n",
       "       'unit_of_measurement', 'altitude_low_meters', 'altitude_high_meters',\n",
       "       'altitude_mean_meters'],\n",
       "      dtype='object')"
      ]
     },
     "execution_count": 7,
     "metadata": {},
     "output_type": "execute_result"
    }
   ],
   "source": [
    "coffee_df_new = coffee_df.rename(columns={'Total.Cup.Points': 'CoffeeScore',\n",
    "                                            'Country.of.Origin': 'Country_of_Origin',\n",
    "                                         'Processing.Method': 'Processing_Method'})\n",
    "coffee_df_new.columns"
   ]
  },
  {
   "cell_type": "code",
   "execution_count": null,
   "id": "05f069b4-9d0f-4203-a014-e64f1c99be55",
   "metadata": {},
   "outputs": [],
   "source": [
    "#SNEHA -- END -- IMPORT CLEAN DATA FROM RONDA\"S EXPORT"
   ]
  },
  {
   "cell_type": "code",
   "execution_count": null,
   "id": "08aabaf2-8852-406b-ba38-57ac8ae3752d",
   "metadata": {},
   "outputs": [],
   "source": [
    "#TAYLOR -- START -- QUESTION 1 : The distribution scores across metrics -Compare Arabica and Robusta (Maybe stacked bar?)"
   ]
  },
  {
   "cell_type": "code",
   "execution_count": null,
   "id": "70b4ad64-8966-4832-a1bb-ecd8ce021940",
   "metadata": {},
   "outputs": [],
   "source": []
  },
  {
   "cell_type": "code",
   "execution_count": null,
   "id": "d58254b5-0d8c-46dc-9591-7dc25b519477",
   "metadata": {},
   "outputs": [],
   "source": [
    "#TAYLOR -- END -- QUESTION 1 : The distribution scores across metrics -Compare Arabica and Robusta (Maybe stacked bar?)"
   ]
  },
  {
   "cell_type": "code",
   "execution_count": null,
   "id": "b8d5d1b7-3bd8-4202-ba7c-fcabff74e4db",
   "metadata": {},
   "outputs": [],
   "source": [
    "#SNEHA -- START -- QUESTION 2 : This team likes Columbian coffee: H0: Distribution of \"Good\" Scores across metrics is not significant in Columbia vs the world"
   ]
  },
  {
   "cell_type": "code",
   "execution_count": null,
   "id": "df8eb8ae-836a-42b2-b885-93d2d5365ec1",
   "metadata": {},
   "outputs": [],
   "source": []
  },
  {
   "cell_type": "code",
   "execution_count": 1,
   "id": "3eda0520-8da2-4636-971d-e934a972afdb",
   "metadata": {},
   "outputs": [],
   "source": [
    "#SNEHA -- END -- QUESTION 2 : This team likes Columbian coffee: H0: Distribution of \"Good\" Scores across metrics is not significant in Columbia vs the world"
   ]
  },
  {
   "cell_type": "code",
   "execution_count": null,
   "id": "f3500aeb-adbd-4e12-84a2-d590ea05658c",
   "metadata": {},
   "outputs": [],
   "source": [
    "#GANESH -- START -- QUESTION 3 : Procesing Method - Visualize with scatter - metrics Scores vs Processing Method"
   ]
  },
  {
   "cell_type": "code",
   "execution_count": null,
   "id": "bfd5648e-e73d-4b67-9916-68d530c78269",
   "metadata": {},
   "outputs": [],
   "source": []
  },
  {
   "cell_type": "code",
   "execution_count": null,
   "id": "429e06b4-5af7-45f2-a6e7-781706bd1d64",
   "metadata": {},
   "outputs": [],
   "source": [
    "#GANESH -- END -- QUESTION 3 : Procesing Method - Visualize with scatter - metrics Scores vs Processing Method"
   ]
  },
  {
   "cell_type": "code",
   "execution_count": null,
   "id": "e6608ea3-1a3c-48bf-8699-bdea573bf49a",
   "metadata": {},
   "outputs": [],
   "source": [
    "#TAYLOR -- START -- QUESTION 4 : ANOVA - Flavor, Aroma, Body - Distribution impact by Processing methods"
   ]
  },
  {
   "cell_type": "code",
   "execution_count": null,
   "id": "55ef75fc-8aaf-41d4-a5a0-16200fe90922",
   "metadata": {},
   "outputs": [],
   "source": []
  },
  {
   "cell_type": "code",
   "execution_count": null,
   "id": "d5354a49-edfb-4654-84fd-79b289839b14",
   "metadata": {},
   "outputs": [],
   "source": [
    "#TAYLOR -- END -- QUESTION 4 : ANOVA - Flavor, Aroma, Body - Distribution impact by Processing methods"
   ]
  },
  {
   "cell_type": "code",
   "execution_count": null,
   "id": "6f0604c0-06e3-4b3d-b415-2c79ab0ac242",
   "metadata": {},
   "outputs": [],
   "source": [
    "#AARON -- START -- QUESTION 5 : Color coded map for Species? Overall Scores?"
   ]
  },
  {
   "cell_type": "code",
   "execution_count": null,
   "id": "25798290-f91a-4c76-ab4f-a2b52e7987ca",
   "metadata": {},
   "outputs": [],
   "source": []
  },
  {
   "cell_type": "code",
   "execution_count": null,
   "id": "c52eb3e2-6ca1-4c4d-9c2c-254bc0651b0e",
   "metadata": {},
   "outputs": [],
   "source": [
    "#AARON -- END -- QUESTION 5 : Color coded map for Species? Overall Scores?"
   ]
  }
 ],
 "metadata": {
  "kernelspec": {
   "display_name": "Python 3 (ipykernel)",
   "language": "python",
   "name": "python3"
  },
  "language_info": {
   "codemirror_mode": {
    "name": "ipython",
    "version": 3
   },
   "file_extension": ".py",
   "mimetype": "text/x-python",
   "name": "python",
   "nbconvert_exporter": "python",
   "pygments_lexer": "ipython3",
   "version": "3.10.9"
  }
 },
 "nbformat": 4,
 "nbformat_minor": 5
}
